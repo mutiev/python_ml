{
 "cells": [
  {
   "cell_type": "markdown",
   "metadata": {},
   "source": [
    "### P - probability\n",
    "$$P(\\omega_i) = \\frac{1}{n}$$\n",
    "\n",
    "A - игральная кость выпадывает четной стороной кверху, тогда:\n",
    "\n",
    "$$P(A) = \\frac{k}{n} = \\frac{3}{6} = \\frac{1}{2}$$\n",
    "\n",
    "Вероятность последовательного извлечения карты из идеально перемешанной колоды:\n",
    "\n",
    "$$P(\\omega_i) = \\frac{1}{36}$$"
   ]
  },
  {
   "cell_type": "markdown",
   "metadata": {},
   "source": [
    "### Свойства вероятности:\n",
    "1) $\\Omega = {\\omega_1, ..., \\omega_n}, P(\\Omega)= 1$ - Омега большое - пространство элементарных исходов или достоверное событие, которое происходит с вероятностью 1.\n",
    "\n",
    "2) $P(\\emptyset)=0, P(A) =0 \\Leftrightarrow A = \\emptyset $\n",
    "\n",
    "3) $P(A\\bigsqcup B) = P(A) + P(B)  $ - дизъюнктное событие (т.е. полагается непересекаемость событий), элементарные исходы которые благоприяютствуют событию A и элементарные исходы которые благоприятствуют событию B и при этом не пересекаются. \n",
    "\n",
    "4) $P(A\\bigcup B) = P(A) + P(B) - P(A\\bigcap B)$ - элементарные исходы, которые благоприяютствуют и событию А и событию B одновременно.\n",
    "\n",
    "\n",
    "5) $P(A_1\\bigcup...\\bigcup A_k) = P(A_1)+ ... + P(A_n) - P(A_1\\bigcap A_2) - P(A_1\\bigcap A_3) -...-P(A_{k-1}\\bigcap A_k)$ (часть комбинаторный формулы включения\\исключения)"
   ]
  },
  {
   "cell_type": "code",
   "execution_count": null,
   "metadata": {
    "collapsed": true
   },
   "outputs": [],
   "source": []
  }
 ],
 "metadata": {
  "kernelspec": {
   "display_name": "Python 3",
   "language": "python",
   "name": "python3"
  },
  "language_info": {
   "codemirror_mode": {
    "name": "ipython",
    "version": 3
   },
   "file_extension": ".py",
   "mimetype": "text/x-python",
   "name": "python",
   "nbconvert_exporter": "python",
   "pygments_lexer": "ipython3",
   "version": "3.6.1"
  }
 },
 "nbformat": 4,
 "nbformat_minor": 2
}
