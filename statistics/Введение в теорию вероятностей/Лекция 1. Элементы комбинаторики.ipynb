{
 "cells": [
  {
   "cell_type": "markdown",
   "metadata": {},
   "source": [
    "# Элементы комбинаторики\n",
    "http://www.intuit.ru/studies/courses/2263/219/lecture/5640\n",
    "## Теорема о перемножении шансов.\n",
    "Если первый элемент можно выбрать $\\large k$ способами, а второй элемент - $\\large m$ способами, то упорядоченную пару элементов можно составить $\\large km$ способами.\n",
    "\n",
    "**Теорема 1.** \n",
    ">Пусть множество $\\large \\textbf A = \\{a_1, \\ldots, a_k\\}$ состоит из $\\large k$ элементов, а множество $\\large \\textbf B = \\{b_1, \\ldots, b_m\\}$ из $\\large m$ элементов. Тогда можно образовать ровно $\\large km$ пар $\\large\\textbf (a_i, b_j)$, взяв первый элемент из множества $\\large A$, а второй из множества $B$.\n",
    "\n",
    "**Урновые схемы.** Есть урна содержащая $\\large n$ пронумерованных шаров. Мы выбираем из урны $\\large k$ шаров; результат этого выбора - набор из $\\large k$ шаров. Сколькими способами можно выбрать $\\large k$ шаров из $\\large n$ (т.е. сколько различных результатов возможно)?\n",
    "\n",
    "Выбор может производиться следующими способами:\n",
    "* Выбор с возвращением шара в урну\n",
    "* Выбор без возвращения шара в урну\n",
    "\n",
    "Различность результатов выбора может быть следующая:\n",
    "* Выбор с учетом порядка. Наборы считаются различными если они отличаются составом или порядком. Эти наборы различные -  (1,5,2), (2,5,1), (1,2,5).\n",
    "* Выбор без учета порядка\n"
   ]
  },
  {
   "cell_type": "code",
   "execution_count": 1,
   "metadata": {},
   "outputs": [
    {
     "ename": "SyntaxError",
     "evalue": "unexpected character after line continuation character (<ipython-input-1-84200c9e15e7>, line 1)",
     "output_type": "error",
     "traceback": [
      "\u001b[1;36m  File \u001b[1;32m\"<ipython-input-1-84200c9e15e7>\"\u001b[1;36m, line \u001b[1;32m1\u001b[0m\n\u001b[1;33m    \\documentclass[12pt]\u001b[0m\n\u001b[1;37m                        ^\u001b[0m\n\u001b[1;31mSyntaxError\u001b[0m\u001b[1;31m:\u001b[0m unexpected character after line continuation character\n"
     ]
    }
   ],
   "source": []
  },
  {
   "cell_type": "code",
   "execution_count": null,
   "metadata": {
    "collapsed": true
   },
   "outputs": [],
   "source": []
  },
  {
   "cell_type": "code",
   "execution_count": null,
   "metadata": {
    "collapsed": true
   },
   "outputs": [],
   "source": []
  },
  {
   "cell_type": "code",
   "execution_count": null,
   "metadata": {
    "collapsed": true
   },
   "outputs": [],
   "source": []
  },
  {
   "cell_type": "markdown",
   "metadata": {},
   "source": [
    "# Тест"
   ]
  },
  {
   "cell_type": "code",
   "execution_count": null,
   "metadata": {
    "collapsed": true
   },
   "outputs": [],
   "source": [
    "A = 3\n",
    "B = 4\n",
    "C = 5\n",
    "P = 3*4*5 = 60\n",
    "\n"
   ]
  }
 ],
 "metadata": {
  "kernelspec": {
   "display_name": "Python 3",
   "language": "python",
   "name": "python3"
  },
  "language_info": {
   "codemirror_mode": {
    "name": "ipython",
    "version": 3
   },
   "file_extension": ".py",
   "mimetype": "text/x-python",
   "name": "python",
   "nbconvert_exporter": "python",
   "pygments_lexer": "ipython3",
   "version": "3.6.1"
  }
 },
 "nbformat": 4,
 "nbformat_minor": 2
}
