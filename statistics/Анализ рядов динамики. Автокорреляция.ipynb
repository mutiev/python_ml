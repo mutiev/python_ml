{
 "cells": [
  {
   "cell_type": "code",
   "execution_count": 116,
   "metadata": {
    "collapsed": true
   },
   "outputs": [],
   "source": [
    "init_data = [10, 11, 13, 17, 23, 31, 40, 45, 38, 33, 30, 29]"
   ]
  },
  {
   "cell_type": "markdown",
   "metadata": {},
   "source": [
    "# Прирост базисный.\n",
    "## $ \\Delta_{iб} = y_i - y_1$\n"
   ]
  },
  {
   "cell_type": "code",
   "execution_count": 56,
   "metadata": {},
   "outputs": [
    {
     "data": {
      "text/plain": [
       "[1, 3, 7, 13, 27, 30, 35, 28, 23, 20, 19]"
      ]
     },
     "execution_count": 56,
     "metadata": {},
     "output_type": "execute_result"
    }
   ],
   "source": [
    "list(y - init_data[0] for y in init_data[1:])"
   ]
  },
  {
   "cell_type": "markdown",
   "metadata": {},
   "source": [
    "# Цепной прирост.\n",
    "## $ \\Delta_{iц} = y_i - y_{i-1}$"
   ]
  },
  {
   "cell_type": "code",
   "execution_count": 46,
   "metadata": {},
   "outputs": [
    {
     "name": "stdout",
     "output_type": "stream",
     "text": [
      "- 1 2 4 6 14 3 5 -7 -5 -3 -1 "
     ]
    }
   ],
   "source": [
    "print('-', end=' ')\n",
    "for i in range(1, len(init_data)):\n",
    "    print(init_data[i] - init_data[i-1], end=' ')"
   ]
  },
  {
   "cell_type": "markdown",
   "metadata": {},
   "source": [
    "# Коэффицент роста базисный.\n",
    "## $К_{рб} = \\frac{yi}{y}$\n"
   ]
  },
  {
   "cell_type": "code",
   "execution_count": 19,
   "metadata": {},
   "outputs": [
    {
     "name": "stdout",
     "output_type": "stream",
     "text": [
      "- 1.1 1.2 1.3 1.4 1.3 1.3 1.1 0.8 0.9 0.9 1.0\n"
     ]
    }
   ],
   "source": [
    "print('-', *(round(init_data[i] / init_data[i-1], 1) for i in range(1, len(init_data))))"
   ]
  },
  {
   "cell_type": "markdown",
   "metadata": {},
   "source": [
    "# Темп роста базисный.\n",
    "## $ Т_{рб} = \\frac{y_i}{y} \\cdot 100\\% $"
   ]
  },
  {
   "cell_type": "code",
   "execution_count": 35,
   "metadata": {},
   "outputs": [
    {
     "name": "stdout",
     "output_type": "stream",
     "text": [
      "- 110 118 131 135 135 129 112 84 87 91 97\n"
     ]
    }
   ],
   "source": [
    "print('-', *(int(round(init_data[i] / init_data[i-1] * 100, 0)) for i in range(1, len(init_data))))"
   ]
  },
  {
   "cell_type": "markdown",
   "metadata": {},
   "source": [
    "# Коэфициент прироста базисный.\n",
    "## $К_{пб_i} = \\frac{\\Delta_{iб}}{y1} = К_{рб} - 1$"
   ]
  },
  {
   "cell_type": "code",
   "execution_count": 42,
   "metadata": {},
   "outputs": [
    {
     "name": "stdout",
     "output_type": "stream",
     "text": [
      "- 0.0 0.1 0.3 0.7 1.3 2.1 3.0 3.5 2.8 2.3 2.0 1.9\n"
     ]
    }
   ],
   "source": [
    "print('-', *(round(init_data[i] / init_data[0] - 1, 1) for i in range(0, len(init_data))))"
   ]
  },
  {
   "cell_type": "markdown",
   "metadata": {},
   "source": [
    "# Темп прироста базисный.\n",
    "## $Т_{пб_i} = К_{пб_i}\\cdot100\\%$"
   ]
  },
  {
   "cell_type": "code",
   "execution_count": 27,
   "metadata": {},
   "outputs": [
    {
     "name": "stdout",
     "output_type": "stream",
     "text": [
      "- 10 30 70 130 210 300 350 280 230 200 190\n"
     ]
    }
   ],
   "source": [
    "print('-', *(int(round((init_data[i] / init_data[0] - 1)*100, 1)) for i in range(1, len(init_data))))"
   ]
  },
  {
   "cell_type": "markdown",
   "metadata": {},
   "source": [
    "# Коэфициент роста цепной.\n",
    "## $К_{рц_i} = \\frac{y_i}{y_{i-1}}$"
   ]
  },
  {
   "cell_type": "code",
   "execution_count": 48,
   "metadata": {},
   "outputs": [
    {
     "name": "stdout",
     "output_type": "stream",
     "text": [
      "- 1.1 1.18 1.31 1.35 1.35 1.29 1.12 0.84 0.87 0.91 0.97\n"
     ]
    }
   ],
   "source": [
    "print('-', *(round(init_data[i] / init_data[i-1], 2) for i in range(1, len(init_data))))"
   ]
  },
  {
   "cell_type": "markdown",
   "metadata": {},
   "source": [
    "# Коэфициент прироста цепной.\n",
    "## $К_{пц_i} = К_{рц_i} - 1$"
   ]
  },
  {
   "cell_type": "code",
   "execution_count": 51,
   "metadata": {},
   "outputs": [
    {
     "name": "stdout",
     "output_type": "stream",
     "text": [
      "- 0.1 0.18 0.31 0.35 0.35 0.29 0.12 -0.16 -0.13 -0.09 -0.03\n"
     ]
    }
   ],
   "source": [
    "print('-', *(round((init_data[i] / init_data[i-1]) - 1, 2) for i in range(1, len(init_data))))"
   ]
  },
  {
   "cell_type": "markdown",
   "metadata": {},
   "source": [
    "# Темп роста цепной.\n",
    "## $Т_{рц_i} = К_{рц_i} \\cdot 100\\%$"
   ]
  },
  {
   "cell_type": "code",
   "execution_count": 53,
   "metadata": {},
   "outputs": [
    {
     "name": "stdout",
     "output_type": "stream",
     "text": [
      "- 110.0 118.0 131.0 135.0 135.0 129.0 112.0 84.0 87.0 91.0 97.0\n"
     ]
    }
   ],
   "source": [
    "print('-', *(round(init_data[i] / init_data[i-1] *100, 0) for i in range(1, len(init_data))))"
   ]
  },
  {
   "cell_type": "markdown",
   "metadata": {},
   "source": [
    "# Темп прироста цепной.\n",
    "## $Т_{пц_i} = К_{пц_i}\\cdot100\\%$"
   ]
  },
  {
   "cell_type": "code",
   "execution_count": 55,
   "metadata": {},
   "outputs": [
    {
     "name": "stdout",
     "output_type": "stream",
     "text": [
      "- 10.0 18.0 31.0 35.0 35.0 29.0 12.0 -16.0 -13.0 -9.0 -3.0\n"
     ]
    }
   ],
   "source": [
    "print('-', *(round(((init_data[i] / init_data[i-1]) - 1) * 100, 0) for i in range(1, len(init_data))))"
   ]
  },
  {
   "cell_type": "markdown",
   "metadata": {},
   "source": [
    "# Линейная регрессия.\n",
    "По фактическим значениям строится теоретическая зависимость:\n",
    "\n",
    "# $\\widetilde{y_i} = k \\cdot x_i +b = 2.4476 \\cdot x_i + 10.757 $\n",
    "\n",
    "## $k = \\frac{\\overline{xy} - \\overline{x} \\cdot \\overline{y}}{\\overline{x^2}-(\\overline{x})^2} = \\frac{202,5 - 6,5\\cdot26,6(6)}{54,1666-6,5^2} = \\frac{29.167}{11.916(6)} = 2.4476$ \n",
    "k - среднее произведение минус произведение средних делить на средний квадрат x минус квадрат среднего x\n",
    "## $b = \\overline{y} - k\\cdot\\overline{x} = 26,6(6) - 2.4476 \\cdot 6,5 = 10.757 $\n",
    "\n",
    "____________________\n",
    "\n",
    "$\\overline{x} = \\frac{x_i + x_{i+1} + ... + x_n}{n} = 6,5$ $ \n",
    "\n",
    "Среднее арифметическое или первый и последний член последовательности деленый на 2.\n",
    "\n",
    "Можно применять расчет по первому и последнему члену последовательности если ряд монотонно возрастающий\n",
    "\n",
    "$\\overline{x^2} = \\frac{x_i^2 + x_{i+1}^2 + ... + x_n^2}{n} = 54,1666$\n",
    "\n",
    "$\\overline{y} = \\frac{y_i + y_{i+1} + ... + y_n}{n} = \\frac{320}{12} = 26,6(6)$\n",
    "\n",
    "$\\overline{y^2} = \\frac{y_i^2 + y_{i+1}^2 + ... + y_n^2}{n} = 839 $\n",
    "\n",
    "$\\overline{xy} = \\frac{xy_i + xy_{i+1} + ... + xy_n}{n} = \\frac{2430}{12} = 202,5$\n"
   ]
  },
  {
   "cell_type": "code",
   "execution_count": 117,
   "metadata": {
    "collapsed": true
   },
   "outputs": [],
   "source": [
    "x_avg = 6.5\n",
    "x2_avg = 54.1666666\n",
    "y_avg = 320/12\n",
    "y2_avg = 839\n",
    "xy_avg = 202.5\n",
    "\n",
    "k = 2.4476\n",
    "b = 10.757"
   ]
  },
  {
   "cell_type": "markdown",
   "metadata": {
    "collapsed": true
   },
   "source": [
    "# Считаем линейную регрессию с параметрами:\n",
    "\n",
    "Для каждого элемента x формула будет следующей: $\\widetilde{y_i} = k \\cdot x_i +b = 2.4476 \\cdot x_i + 10.757 $"
   ]
  },
  {
   "cell_type": "code",
   "execution_count": 109,
   "metadata": {},
   "outputs": [
    {
     "name": "stdout",
     "output_type": "stream",
     "text": [
      "1 2 3 4 5 6 7 8 9 10 11 12 13 14 \n",
      "13.2 15.7 18.1 20.5 23.0 25.4 27.9 30.3 32.8 35.2 37.7 40.1 42.6 45.0 "
     ]
    }
   ],
   "source": [
    "for x in range(1,12+3):\n",
    "    print(x, end=' ')\n",
    "print()\n",
    "for x in range(1,12+3):\n",
    "    print(round(k*x+b,1), end=' ')"
   ]
  },
  {
   "cell_type": "markdown",
   "metadata": {
    "collapsed": true
   },
   "source": [
    "$ \\widetilde{y_i} = 13.2\\space15.7\\space18.1\\space20.5\\space23.0\\space25.4\\space27.9\\space30.3\\space32.8\\space35.2\\space37.7\\space40.1\\space42.6\\space45.0  $"
   ]
  },
  {
   "cell_type": "markdown",
   "metadata": {},
   "source": [
    "# Линейный коэфициент корреляции\n",
    "## $ r_{xy} = \\frac{\\sum(x_i - \\overline{x})\\times(y_i - \\overline{y})}{\\sqrt{\\sum(x_i - \\overline{x})^2\\times\\sum(y_i - \\overline{y})^2}}$"
   ]
  },
  {
   "cell_type": "code",
   "execution_count": null,
   "metadata": {
    "collapsed": true
   },
   "outputs": [],
   "source": []
  },
  {
   "cell_type": "code",
   "execution_count": null,
   "metadata": {
    "collapsed": true
   },
   "outputs": [],
   "source": []
  },
  {
   "cell_type": "code",
   "execution_count": null,
   "metadata": {
    "collapsed": true
   },
   "outputs": [],
   "source": []
  },
  {
   "cell_type": "code",
   "execution_count": null,
   "metadata": {
    "collapsed": true
   },
   "outputs": [],
   "source": []
  },
  {
   "cell_type": "code",
   "execution_count": null,
   "metadata": {
    "collapsed": true
   },
   "outputs": [],
   "source": []
  },
  {
   "cell_type": "code",
   "execution_count": null,
   "metadata": {
    "collapsed": true
   },
   "outputs": [],
   "source": []
  },
  {
   "cell_type": "code",
   "execution_count": null,
   "metadata": {
    "collapsed": true
   },
   "outputs": [],
   "source": []
  },
  {
   "cell_type": "code",
   "execution_count": null,
   "metadata": {
    "collapsed": true
   },
   "outputs": [],
   "source": []
  },
  {
   "cell_type": "code",
   "execution_count": null,
   "metadata": {
    "collapsed": true
   },
   "outputs": [],
   "source": []
  },
  {
   "cell_type": "code",
   "execution_count": null,
   "metadata": {
    "collapsed": true
   },
   "outputs": [],
   "source": []
  },
  {
   "cell_type": "code",
   "execution_count": null,
   "metadata": {
    "collapsed": true
   },
   "outputs": [],
   "source": []
  },
  {
   "cell_type": "code",
   "execution_count": null,
   "metadata": {
    "collapsed": true
   },
   "outputs": [],
   "source": []
  },
  {
   "cell_type": "code",
   "execution_count": null,
   "metadata": {
    "collapsed": true
   },
   "outputs": [],
   "source": []
  },
  {
   "cell_type": "code",
   "execution_count": null,
   "metadata": {
    "collapsed": true
   },
   "outputs": [],
   "source": []
  },
  {
   "cell_type": "code",
   "execution_count": null,
   "metadata": {
    "collapsed": true
   },
   "outputs": [],
   "source": []
  }
 ],
 "metadata": {
  "kernelspec": {
   "display_name": "Python 3",
   "language": "python",
   "name": "python3"
  },
  "language_info": {
   "codemirror_mode": {
    "name": "ipython",
    "version": 3
   },
   "file_extension": ".py",
   "mimetype": "text/x-python",
   "name": "python",
   "nbconvert_exporter": "python",
   "pygments_lexer": "ipython3",
   "version": "3.6.1"
  }
 },
 "nbformat": 4,
 "nbformat_minor": 2
}
