{
 "cells": [
  {
   "cell_type": "markdown",
   "metadata": {},
   "source": [
    "Конспект лекции: https://stepik.org/lesson/%D0%9F%D1%80%D0%B5%D0%B4%D0%B5%D0%BB-%D0%BF%D0%BE%D1%81%D0%BB%D0%B5%D0%B4%D0%BE%D0%B2%D0%B0%D1%82%D0%B5%D0%BB%D1%8C%D0%BD%D0%BE%D1%81%D1%82%D0%B8-9519/step/2?unit=undefined\n",
    "\n",
    "$\\; \\mathbb{N}\\rightarrow\\mathbb{B}\\qquad  x_1,\\;x_2, x_3, x_4, ...$\n",
    "\n",
    ">$1, 4, 9, 16, 25, 36, ... \\qquad x_n = n^2$\n",
    "\n",
    ">$2, 3, 5, 7, 11, 13, 17, ...\\qquad x_n~-~n~простое~число$\n",
    "\n",
    ">$3; 3,1; 3,14; 3,141; 3,1415; 3,14159; ...\\qquad x_n = \\frac{[10^{n-1}\\pi]}{10^{n-1}}$\n",
    "\n",
    ">$1, 4, 9, 4, 25, 6, 49, 8, 9, 10, 121, ...\\qquad \\$\n",
    "\n",
    ">$1, 1, 2, 3, 5, 8, 13, 21, 34, ...\\qquad $\n",
    "\n",
    "$\n",
    "\\begin{cases}\n",
    "    n\\quad n\\ не\\ простое\\\\\n",
    "    n^2\\quad n\\ не\\ простое\n",
    "\\end{cases}$\n"
   ]
  }
 ],
 "metadata": {
  "kernelspec": {
   "display_name": "Python 3",
   "language": "python",
   "name": "python3"
  },
  "language_info": {
   "codemirror_mode": {
    "name": "ipython",
    "version": 3
   },
   "file_extension": ".py",
   "mimetype": "text/x-python",
   "name": "python",
   "nbconvert_exporter": "python",
   "pygments_lexer": "ipython3",
   "version": "3.6.1"
  }
 },
 "nbformat": 4,
 "nbformat_minor": 2
}
